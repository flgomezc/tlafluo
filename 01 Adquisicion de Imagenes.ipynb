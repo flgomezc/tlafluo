{
 "metadata": {
  "name": "",
  "signature": "sha256:c8b7dcf9bb7a70cf6016304ffe7763b46426793337cc4684f5149f1a7eb26b59"
 },
 "nbformat": 3,
 "nbformat_minor": 0,
 "worksheets": [
  {
   "cells": [
    {
     "cell_type": "markdown",
     "metadata": {},
     "source": [
      "Este m\u00f3dulo trabaja en la Conversi\u00f3n de las im\u00e1genes JPEG a una matriz monocrom\u00e1tica (escala de grises)\n",
      "\n",
      "Se tomar\u00e1 una foto cada 5 grados. Son 60 im\u00e1genes."
     ]
    },
    {
     "cell_type": "markdown",
     "metadata": {},
     "source": [
      "<img src=\"https://raw.githubusercontent.com/flgomezc/tlafluo/master/img/adquisicion.png\" />\n",
      "\n",
      "Gonzales & Woods 2008"
     ]
    },
    {
     "cell_type": "markdown",
     "metadata": {},
     "source": [
      "# Opcional\n",
      "\n",
      "Se puede hacer un filtro para mejorar la calidad de la reconstrucci\u00f3n"
     ]
    },
    {
     "cell_type": "markdown",
     "metadata": {},
     "source": [
      "\n",
      "<img src=\"https://raw.githubusercontent.com/flgomezc/tlafluo/master/img/02%20filtro.png\" />\n",
      "\n",
      "Gonzales & Woods 2008    "
     ]
    }
   ],
   "metadata": {}
  }
 ]
}