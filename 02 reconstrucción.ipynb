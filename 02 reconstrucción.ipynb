{
 "metadata": {
  "name": "",
  "signature": "sha256:00b073b2f2a40f1b4d3f7fce5bc05358437782ec20a64ee4a0fa1c0f9ff23a05"
 },
 "nbformat": 3,
 "nbformat_minor": 0,
 "worksheets": [
  {
   "cells": [
    {
     "cell_type": "markdown",
     "metadata": {},
     "source": [
      "#Reconstrucci\u00f3n de Im\u00e1genes desde Proyecciones"
     ]
    },
    {
     "cell_type": "markdown",
     "metadata": {},
     "source": [
      "<img src=\"https://raw.githubusercontent.com/flgomezc/tlafluo/master/img/reconstruccion.png\" />\n",
      "\n",
      "Gonzales & Woods 2008"
     ]
    },
    {
     "cell_type": "markdown",
     "metadata": {},
     "source": [
      "<b>Arriba Izquierda: </b> Muestra original. Perfil de absorci\u00f3n. La parte m\u00e1s clara de la im\u00e1gen muestra la regi\u00f3n de mayor absorci\u00f3n de la luz incidente."
     ]
    },
    {
     "cell_type": "markdown",
     "metadata": {},
     "source": [
      "<b>Arriba centro:</b> Se env\u00eda luz desde la izquierda. Se obtiene en el detector la sombra del objeto.\n",
      "\n",
      "<img src=\"https://raw.githubusercontent.com/flgomezc/tlafluo/master/img/adquisicion.png\" />\n",
      "\n",
      "Gonzales & Woods 2008"
     ]
    },
    {
     "cell_type": "markdown",
     "metadata": {},
     "source": [
      "<b> Arriba Derecha:</b> La muestra se ilumina desde la esquina inferior izquierda.\n",
      "\n",
      "<b> Abajo Izquierda:</b>La muestra se ilumina desde la abajo.\n",
      "\n",
      "<b> Abajo Centro:</b> La muestra se ilumina desde la esquina inferior derecha.\n",
      "\n",
      "<b> Abajo Derecha:</b> Cuando se suman las im\u00e1genes de todas las proyecciones (muchas m\u00e1s que las cuatro iniciales), tenemos la reconstrucci\u00f3n de la muestra."
     ]
    },
    {
     "cell_type": "markdown",
     "metadata": {},
     "source": [
      "# Varios Objetos\n",
      "\n",
      "Cuando reconstru\u00edmos varios objetos el procedimiento es el mismo."
     ]
    },
    {
     "cell_type": "markdown",
     "metadata": {},
     "source": [
      "<img src=\"https://raw.githubusercontent.com/flgomezc/tlafluo/master/img/reconstruccion2.png\" />\n",
      "\n",
      "Gonzales & Woods 2008"
     ]
    },
    {
     "cell_type": "markdown",
     "metadata": {},
     "source": [
      "# Sinogramas\n",
      "\n",
      "Podemos visualizar el paso intermedio antes de la reconstrucci\u00f3n como Sinogramas.\n",
      "\n",
      "<img src=\"https://raw.githubusercontent.com/flgomezc/tlafluo/master/img/sinogramas.png\" />\n",
      "\n",
      "Gonzales & Woods 2008"
     ]
    },
    {
     "cell_type": "markdown",
     "metadata": {},
     "source": [
      "# La geometr\u00eda de la luz\n",
      "\n",
      "Es importante tener en cuenta la configuraci\u00f3n geom\u00e9trica con la que trabajaremos para realizar nuestras reconstrucciones."
     ]
    },
    {
     "cell_type": "markdown",
     "metadata": {},
     "source": [
      "<img src=\"https://raw.githubusercontent.com/flgomezc/tlafluo/master/img/principios_de_Tomografia.png\" />\n",
      "\n",
      "Gonzales & Woods 2008"
     ]
    },
    {
     "cell_type": "markdown",
     "metadata": {},
     "source": [
      "# Trabajaremos con la configuraci\u00f3n G4!!!\n",
      "\n",
      "Trabajaremos con un cono de luz, no con un haz paralelo."
     ]
    },
    {
     "cell_type": "markdown",
     "metadata": {},
     "source": [
      "#Opcional\n",
      "\n",
      "Uso de filtro para mejorar la im\u00e1gen:\n",
      "\n",
      "<img src=\"https://raw.githubusercontent.com/flgomezc/tlafluo/master/img/filtro2.png\" />\n",
      "\n",
      "Gonzales & Woods 2008"
     ]
    }
   ],
   "metadata": {}
  }
 ]
}