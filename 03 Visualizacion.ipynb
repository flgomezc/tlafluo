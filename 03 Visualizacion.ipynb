{
 "metadata": {
  "name": "",
  "signature": "sha256:deecf9f4641b4ab3d05918bb108d242379f6dd136e49499c7d2c49e061e31e1f"
 },
 "nbformat": 3,
 "nbformat_minor": 0,
 "worksheets": [
  {
   "cells": [
    {
     "cell_type": "markdown",
     "metadata": {},
     "source": [
      "Necesitamos un m\u00f3dulo que permita visualizar datos en 3D.\n",
      "\n",
      "Fiji\n",
      "\n",
      "Matlab\n",
      "\n",
      "http://vispy.org/examples/demo/gloo/brain.html\n",
      "\n",
      "TOPCAT http://www.star.bris.ac.uk/~mbt/topcat/multishot.gif"
     ]
    },
    {
     "cell_type": "code",
     "collapsed": false,
     "input": [],
     "language": "python",
     "metadata": {},
     "outputs": []
    }
   ],
   "metadata": {}
  }
 ]
}